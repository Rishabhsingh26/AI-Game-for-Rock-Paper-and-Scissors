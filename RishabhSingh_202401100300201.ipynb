{
  "nbformat": 4,
  "nbformat_minor": 0,
  "metadata": {
    "colab": {
      "provenance": []
    },
    "kernelspec": {
      "name": "python3",
      "display_name": "Python 3"
    },
    "language_info": {
      "name": "python"
    }
  },
  "cells": [
    {
      "cell_type": "code",
      "execution_count": 1,
      "metadata": {
        "colab": {
          "base_uri": "https://localhost:8080/"
        },
        "id": "zPJ-oM83f5C-",
        "outputId": "22a61bb3-c461-4f92-b20b-c824c949a49b"
      },
      "outputs": [
        {
          "output_type": "stream",
          "name": "stdout",
          "text": [
            "Welcome to Rock-Paper-Scissors!\n",
            "Enter rock, paper, or scissors (or 'quit' to stop): rock\n",
            "Computer chose: rock\n",
            "It's a tie!\n",
            "Enter rock, paper, or scissors (or 'quit' to stop): paper\n",
            "Computer chose: paper\n",
            "It's a tie!\n",
            "Enter rock, paper, or scissors (or 'quit' to stop): scissors\n",
            "Computer chose: rock\n",
            "Computer wins!\n",
            "Enter rock, paper, or scissors (or 'quit' to stop): quit\n",
            "Thanks for playing!\n"
          ]
        }
      ],
      "source": [
        "import random  # Import the random module for AI's move selection\n",
        "\n",
        "# Function to get a random choice for the computer\n",
        "def get_computer_choice():\n",
        "    return random.choice([\"rock\", \"paper\", \"scissors\"])\n",
        "\n",
        "# Function to determine the winner based on player and computer choices\n",
        "def determine_winner(player, computer):\n",
        "    if player == computer:\n",
        "        return \"It's a tie!\"  # Both chose the same, so it's a tie\n",
        "    elif (player == \"rock\" and computer == \"scissors\") or \\\n",
        "         (player == \"scissors\" and computer == \"paper\") or \\\n",
        "         (player == \"paper\" and computer == \"rock\"):\n",
        "        return \"You win!\"  # Player wins if they choose the winning move\n",
        "    else:\n",
        "        return \"Computer wins!\"  # Computer wins in all other cases\n",
        "\n",
        "# Main function to play the game\n",
        "def play_game():\n",
        "    print(\"Welcome to Rock-Paper-Scissors!\")\n",
        "\n",
        "    while True:  # Loop to keep playing until the user quits\n",
        "        # Get the player's choice\n",
        "        player_choice = input(\"Enter rock, paper, or scissors (or 'quit' to stop): \").lower()\n",
        "\n",
        "        if player_choice == \"quit\":  # Check if the player wants to exit\n",
        "            print(\"Thanks for playing!\")\n",
        "            break  # Exit the loop and end the game\n",
        "\n",
        "        if player_choice not in [\"rock\", \"paper\", \"scissors\"]:\n",
        "            print(\"Invalid choice, try again.\")  # Ensure valid input\n",
        "            continue  # Restart the loop to get a valid choice\n",
        "\n",
        "        # Get the computer's choice\n",
        "        computer_choice = get_computer_choice()\n",
        "        print(f\"Computer chose: {computer_choice}\")  # Show the computer's move\n",
        "\n",
        "        # Determine and display the winner\n",
        "        print(determine_winner(player_choice, computer_choice))\n",
        "\n",
        "# Start the game\n",
        "play_game()\n"
      ]
    }
  ]
}